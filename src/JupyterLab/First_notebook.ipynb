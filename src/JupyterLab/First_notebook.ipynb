{
 "cells": [
  {
   "cell_type": "markdown",
   "id": "2cfccc24-9f42-4b03-9390-4b04e73be634",
   "metadata": {
    "tags": []
   },
   "source": [
    "### Jonah's First Jupter Notebook\n",
    "I thought this might be intersiting, so I installed it."
   ]
  }
 ],
 "metadata": {
  "kernelspec": {
   "display_name": "Python 3 (ipykernel)",
   "language": "python",
   "name": "python3"
  },
  "language_info": {
   "codemirror_mode": {
    "name": "ipython",
    "version": 3
   },
   "file_extension": ".py",
   "mimetype": "text/x-python",
   "name": "python",
   "nbconvert_exporter": "python",
   "pygments_lexer": "ipython3",
   "version": "3.10.1"
  }
 },
 "nbformat": 4,
 "nbformat_minor": 5
}
