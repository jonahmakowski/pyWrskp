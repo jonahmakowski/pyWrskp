{
 "cells": [
  {
   "cell_type": "markdown",
   "id": "91382632-6639-4aa6-9cf3-7b061672ef34",
   "metadata": {
    "tags": []
   },
   "source": [
    "# Python Tutorial\n",
    "I thought I might make this for the people I know who don't know how to code python!\n",
    "\n",
    "## Functions\n",
    "A function is a code that is written once, and can be called on many times\n",
    "\n",
    "A basic function looks somthing like this:"
   ]
  },
  {
   "cell_type": "code",
   "execution_count": 1,
   "id": "faaa9d0b-b4a9-4d8d-8557-73697445cc43",
   "metadata": {},
   "outputs": [],
   "source": [
    "def function_name(int1, int2):\n",
    "    a = int1 + int2\n",
    "    print(str(int1) + ' + ' + str(int2) + ' = ' + str(a))\n",
    "    return a"
   ]
  },
  {
   "cell_type": "markdown",
   "id": "a67b1da0-f877-4d00-b6fe-25ce7fe43e8d",
   "metadata": {},
   "source": [
    "But that program does not do anything, becuase I just created the function, I did not use it, here is an example where it is used:"
   ]
  },
  {
   "cell_type": "code",
   "execution_count": 3,
   "id": "8b9942bc-be87-45ce-b755-908a4694e802",
   "metadata": {},
   "outputs": [
    {
     "name": "stdin",
     "output_type": "stream",
     "text": [
      "What is the first number? 1\n",
      "What is the secound number? 1\n"
     ]
    },
    {
     "name": "stdout",
     "output_type": "stream",
     "text": [
      "1 + 1 = 2\n"
     ]
    }
   ],
   "source": [
    "def function_name(int1, int2):\n",
    "    a = int1 + int2\n",
    "    print(str(int1) + ' + ' + str(int2) + ' = ' + str(a))\n",
    "    return a\n",
    "\n",
    "num1 = int(input('What is the first number?'))\n",
    "num2 = int(input('What is the secound number?'))\n",
    "\n",
    "a = function_name(num1, num2)"
   ]
  },
  {
   "cell_type": "markdown",
   "id": "f764f380-4aba-469e-ad0b-e1b11dc1e45e",
   "metadata": {
    "tags": []
   },
   "source": [
    "## Classes\n",
    "Classes are like the parents of Functions, a class can have many methods (a method is a function within a class) within it.\n",
    "\n",
    "Here is an example of a class:"
   ]
  },
  {
   "cell_type": "code",
   "execution_count": 5,
   "id": "5cf67bf9-ecf2-488d-af24-3f3fd72af4b3",
   "metadata": {},
   "outputs": [],
   "source": [
    "class class_name: # class\n",
    "    def __init__(self, num1, num2, opration): # this is the method that is called when you first created the class\n",
    "        self.num1 = num1\n",
    "        self.num2 = num2\n",
    "        \n",
    "        if opration == '+':\n",
    "            self.add()\n",
    "        elif opration == '-':\n",
    "            self.sub()\n",
    "        elif opration == '/':\n",
    "            self.dev()\n",
    "        elif opration == '*':\n",
    "            self.multi()\n",
    "        else:\n",
    "            print('That is not an opration!')\n",
    "    \n",
    "    def add(self): # method\n",
    "        a = self.num1 + self.num2\n",
    "        print(str(self.num1) + ' + ' + str(self.num2) + ' = ' + str(a))\n",
    "    \n",
    "    def sub(self): # method\n",
    "        a = self.num1 - self.num2\n",
    "        print(str(self.num1) + ' - ' + str(self.num2) + ' = ' + str(a))\n",
    "        \n",
    "    def dev(self): # method\n",
    "        a = self.num1 / self.num2\n",
    "        print(str(self.num1) + ' / ' + str(self.num2) + ' = ' + str(a))\n",
    "    \n",
    "    def multi(self): # method\n",
    "        a = self.num1 * self.num2\n",
    "        print(str(self.num1) + ' * ' + str(self.num2) + ' = ' + str(a))\n",
    "    \n",
    "    def add_and_subtract_4(self): # method\n",
    "        a = (self.num1 + self.num2) - 4\n",
    "        print('(' + str(self.num1) + ' + ' + str(self.num2) + ')' + ' - 4 = ' + str(a))"
   ]
  },
  {
   "cell_type": "markdown",
   "id": "2b2ccb85-788c-43f4-8a3a-142f0d51582b",
   "metadata": {},
   "source": [
    "Again, this program does nothing, becasuse I am not calling on the class, here is an example of the class at work:"
   ]
  },
  {
   "cell_type": "code",
   "execution_count": 6,
   "id": "8c002a60-0d59-465c-80e7-e8a7e6f5e41a",
   "metadata": {},
   "outputs": [
    {
     "name": "stdout",
     "output_type": "stream",
     "text": [
      "__init__:\n",
      "4 + 5 = 9\n",
      "add_and_subtract_4\n",
      "(4 + 5) - 4 = 5\n"
     ]
    }
   ],
   "source": [
    "class class_name: # class\n",
    "    def __init__(self, num1, num2, opration): # this is the method that is called when you first created the class\n",
    "        self.num1 = num1\n",
    "        self.num2 = num2\n",
    "        \n",
    "        if opration == '+':\n",
    "            self.add()\n",
    "        elif opration == '-':\n",
    "            self.sub()\n",
    "        elif opration == '/':\n",
    "            self.dev()\n",
    "        elif opration == '*':\n",
    "            self.multi()\n",
    "        else:\n",
    "            print('That is not an opration!')\n",
    "    \n",
    "    def add(self): # method\n",
    "        a = self.num1 + self.num2\n",
    "        print(str(self.num1) + ' + ' + str(self.num2) + ' = ' + str(a))\n",
    "    \n",
    "    def sub(self): # method\n",
    "        a = self.num1 - self.num2\n",
    "        print(str(self.num1) + ' - ' + str(self.num2) + ' = ' + str(a))\n",
    "        \n",
    "    def dev(self): # method\n",
    "        a = self.num1 / self.num2\n",
    "        print(str(self.num1) + ' / ' + str(self.num2) + ' = ' + str(a))\n",
    "    \n",
    "    def multi(self): # method\n",
    "        a = self.num1 * self.num2\n",
    "        print(str(self.num1) + ' * ' + str(self.num2) + ' = ' + str(a))\n",
    "    \n",
    "    def add_and_subtract_4(self): # method\n",
    "        a = (self.num1 + self.num2) - 4\n",
    "        print('(' + str(self.num1) + ' + ' + str(self.num2) + ')' + ' - 4 = ' + str(a))\n",
    "\n",
    "\n",
    "print('__init__:')\n",
    "class_var = class_name(num1=4, num2=5, opration='+') # this will execute the __init__ method, and becuase the opration is + than it will also call the method add()\n",
    "\n",
    "print('add_and_subtract_4')\n",
    "class_var.add_and_subtract_4() # this is how you call a method from outside the class!"
   ]
  },
  {
   "cell_type": "markdown",
   "id": "c2640d41-70e5-4c9c-bfc0-3f4b43f8096f",
   "metadata": {},
   "source": [
    "## Built in functions and imports\n",
    "This is a bit of a step back, but it is important to know the basics!\n",
    "\n",
    "### imports\n",
    "This allows you to do things like create a random number, here is an example of just that:"
   ]
  },
  {
   "cell_type": "code",
   "execution_count": 7,
   "id": "909a5f46-53c5-4ee2-8dc4-ff3198521dc0",
   "metadata": {},
   "outputs": [
    {
     "name": "stdout",
     "output_type": "stream",
     "text": [
      "13\n"
     ]
    }
   ],
   "source": [
    "import random\n",
    "\n",
    "random_number = random.randint(0, 100) # create a random number from 0 to 100\n",
    "\n",
    "print(random_number)"
   ]
  },
  {
   "cell_type": "markdown",
   "id": "66637202-13a9-477b-9484-c5c15937f85f",
   "metadata": {},
   "source": [
    "### Built in functions\n",
    "By this I mean things like print(), if, elif, etc.\n",
    "\n",
    "#### if, elif, and else\n",
    "These are the condition statments!\n",
    "here is an example:"
   ]
  },
  {
   "cell_type": "code",
   "execution_count": 9,
   "id": "b9bc2582-1659-4a70-ac4c-676f4da3758a",
   "metadata": {},
   "outputs": [
    {
     "name": "stdout",
     "output_type": "stream",
     "text": [
      "random_number is less than or equal to 50\n",
      "random_number is 35\n"
     ]
    }
   ],
   "source": [
    "import random\n",
    "\n",
    "random_number = random.randint(0, 100) # from the section before\n",
    "\n",
    "if random_number <= 10:\n",
    "    print('random_number is less than or equal to 10')\n",
    "elif random_number <= 50:\n",
    "    print('random_number is less than or equal to 50')\n",
    "else:\n",
    "    print('random_number is greater than 50')\n",
    "\n",
    "print('random_number is ' + str(random_number))"
   ]
  },
  {
   "cell_type": "markdown",
   "id": "784b89af-50a0-49f0-97ba-9c68d550d22d",
   "metadata": {},
   "source": [
    "#### print()\n",
    "\n",
    "As you may have seen in sections above, print shows you info in the shell, here is an example:"
   ]
  },
  {
   "cell_type": "code",
   "execution_count": 1,
   "id": "e8b720b3-43c3-403f-8154-796b8bdf773d",
   "metadata": {},
   "outputs": [
    {
     "name": "stdout",
     "output_type": "stream",
     "text": [
      "Hello World\n"
     ]
    }
   ],
   "source": [
    "print('Hello World')"
   ]
  },
  {
   "cell_type": "markdown",
   "id": "941c2912-96fd-4d34-9c6e-2c4a5dad5256",
   "metadata": {},
   "source": [
    "#### Input\n",
    "\n",
    "This asks the user a question, that you can than save in a var\n",
    "\n",
    "Here is an example"
   ]
  },
  {
   "cell_type": "code",
   "execution_count": 2,
   "id": "cf28e569-6ffe-4a82-9721-881ac352c098",
   "metadata": {},
   "outputs": [
    {
     "name": "stdin",
     "output_type": "stream",
     "text": [
      "What Do You Wish To Print?\n",
      " INPUT\n"
     ]
    },
    {
     "name": "stdout",
     "output_type": "stream",
     "text": [
      "The var is INPUT\n"
     ]
    }
   ],
   "source": [
    "var = input('What Do You Wish To Print?\\n')\n",
    "\n",
    "print('The var is {}'.format(var))"
   ]
  },
  {
   "cell_type": "markdown",
   "id": "ee841de6-ef55-43dd-b07f-e2681a7dc8c9",
   "metadata": {},
   "source": [
    "#### Strings, Integers, Floats, Lists, and Dictionaries\n",
    "These are the types of vars, here is an example of all of them:"
   ]
  },
  {
   "cell_type": "code",
   "execution_count": 5,
   "id": "9245e251-a2dc-4ebb-a0eb-feefb49c312f",
   "metadata": {},
   "outputs": [],
   "source": [
    "String = 'Hello!'\n",
    "\n",
    "Integer = 10\n",
    "\n",
    "Float = 10.5\n",
    "\n",
    "List = [String, Integer, Float]\n",
    "\n",
    "dictionary = {'String': String, 'Interger': Integer, 'Float': Float, 'List': List}"
   ]
  },
  {
   "cell_type": "markdown",
   "id": "eb0f32e6-aefc-44b4-b759-89bfd1c689f9",
   "metadata": {},
   "source": [
    "##### Strings\n",
    "This is a section about all the things you can do with strings\n",
    "\n",
    "here are some examples (in the comments it will tell you what is what!)"
   ]
  },
  {
   "cell_type": "code",
   "execution_count": 10,
   "id": "9f3d120b-1c8a-452b-a8b8-6eda4d2b0510",
   "metadata": {},
   "outputs": [
    {
     "name": "stdout",
     "output_type": "stream",
     "text": [
      "1. Basic\n",
      "Hello\n",
      "\n",
      "2. +=\n",
      "Hello Jonah!\n",
      "\n",
      "3. input\n"
     ]
    },
    {
     "name": "stdin",
     "output_type": "stream",
     "text": [
      "Input! INPUT\n"
     ]
    },
    {
     "name": "stdout",
     "output_type": "stream",
     "text": [
      "INPUT\n",
      "\n",
      "4. str()\n",
      "10\n",
      "\n",
      "5. len()\n",
      "2\n",
      "\n",
      "6. .format\n",
      "Hello Jonah! I hope you have a great morning!! Your lucky number is: 10!\n",
      "\n",
      "7. +\n",
      "10 Hello!\n"
     ]
    }
   ],
   "source": [
    "print('1. Basic')\n",
    "String = 'Hello' # Basic way to define a var\n",
    "print(String)\n",
    "print()\n",
    "\n",
    "\n",
    "print('2. +=')\n",
    "String += ' Jonah!' # addes to the string (in this case the var String would equal \"Hello Jonah!\")\n",
    "print(String)\n",
    "print()\n",
    "\n",
    "\n",
    "print('3. input')\n",
    "String = input('Input!') # this is the input function, I talk about this above\n",
    "print(String)\n",
    "print()\n",
    "\n",
    "\n",
    "print('4. str()')\n",
    "Int = 10 # for info below\n",
    "String = str(Int) # changes a diffrent type of var to a string\n",
    "print(String)\n",
    "print()\n",
    "\n",
    "\n",
    "print('5. len()')\n",
    "print(len(String)) # amount of chars in the String\n",
    "print()\n",
    "\n",
    "\n",
    "print('6. .format')\n",
    "print('Hello {}! I hope you have a great {}! Your lucky number is: {}!'.format('Jonah', 'morning!', 10)) # changes {} to what ever you want\n",
    "print()\n",
    "\n",
    "\n",
    "print('7. +')\n",
    "print(String + ' Hello!') # puts two string together, I prefer the option above though"
   ]
  },
  {
   "cell_type": "markdown",
   "id": "48b21f34-86ea-4d38-83b2-48045290e23e",
   "metadata": {},
   "source": [
    "##### Integer and Floats\n",
    "This is a section about all you can do with ints and floats\n",
    "\n",
    "here are some examples (in the comments it will tell you what is what!)"
   ]
  },
  {
   "cell_type": "code",
   "execution_count": 14,
   "id": "ed2e8867-7c15-4e96-bb78-eb90071ea217",
   "metadata": {},
   "outputs": [
    {
     "name": "stdout",
     "output_type": "stream",
     "text": [
      "1. basic\n",
      "int: 10\n",
      "float: 10.5\n",
      "\n",
      "2. changing\n",
      "int: 5\n",
      "float: 5.5\n",
      "\n",
      "3. +=\n",
      "int: 15\n",
      "float: 26.0\n",
      "\n",
      "4. -=\n",
      "int: 5\n",
      "float: 5.5\n",
      "\n",
      "5. for i in range\n",
      "int: 10\n",
      "float: 8.0\n",
      "\n"
     ]
    }
   ],
   "source": [
    "print('1. basic') # basic way of defining vars\n",
    "Integer = 10\n",
    "Float = 10.5\n",
    "print('int: {}'.format(Integer))\n",
    "print('float: {}'.format(Float))\n",
    "print()\n",
    "\n",
    "\n",
    "print('2. changing') # changes versions to ints or floats\n",
    "Integer = int(5.5)\n",
    "Float = float('5.5')\n",
    "print('int: {}'.format(Integer))\n",
    "print('float: {}'.format(Float))\n",
    "print()\n",
    "\n",
    "\n",
    "print('3. +=') # add and equals\n",
    "Integer += 10\n",
    "Float += 20.5\n",
    "print('int: {}'.format(Integer))\n",
    "print('float: {}'.format(Float))\n",
    "print()\n",
    "\n",
    "\n",
    "print('4. -=') # minus and equals\n",
    "Integer -= 10\n",
    "Float -= 20.5\n",
    "print('int: {}'.format(Integer))\n",
    "print('float: {}'.format(Float))\n",
    "print()\n",
    "\n",
    "\n",
    "print('5. for i in range') # loops\n",
    "for i in range(Integer):\n",
    "    Integer += 1\n",
    "    Float += 0.5\n",
    "print('int: {}'.format(Integer))\n",
    "print('float: {}'.format(Float))\n",
    "print()"
   ]
  },
  {
   "cell_type": "markdown",
   "id": "b143c5cf-e8be-4d86-8581-d7d1e784c696",
   "metadata": {
    "tags": []
   },
   "source": [
    "##### Lists and Dictionaries\n",
    "This explains what you can do with both, and the diffrence"
   ]
  },
  {
   "cell_type": "code",
   "execution_count": 2,
   "id": "11e8a685-e8e8-4adc-8e63-447d009713b3",
   "metadata": {},
   "outputs": [
    {
     "name": "stdout",
     "output_type": "stream",
     "text": [
      "5.5\n",
      "10\n"
     ]
    }
   ],
   "source": [
    "from random import randint\n",
    "\n",
    "lis = [10, 50, 'Hello', 5.5] # this is the format of a list\n",
    "\n",
    "dic = {'int1':10, 'int2':50, 'string':'Hello', 'float':5.5} # this is the format of a Dictionary\n",
    "\n",
    "print(lis[randint(0, len(lis) - 1)]) # this calls a random thing from the list, to call it normally you type this: lis[num]\n",
    "\n",
    "print(dic['int1']) # this is how you call something from a dictionary"
   ]
  },
  {
   "cell_type": "markdown",
   "id": "afe0e7cf-34eb-4e99-b309-9ec40fb811d5",
   "metadata": {},
   "source": [
    "## Writing your first program\n",
    "Now that we have covered the basics, I have a couple challanges for you!\n",
    "\n",
    "1. write a program that prints \"Hello World\"\n",
    "2. write a program the prints a story\n",
    "3. write a program that creates a game\n",
    "4. share coding with someone else\n",
    "\n",
    "If you are done with that, try and make a gui, here are some ideas:\n",
    "\n",
    "- use turtle and make a race\n",
    "- use turtle and make a kindegarten drawing\n",
    "- use pygame and make a drawing software"
   ]
  }
 ],
 "metadata": {
  "kernelspec": {
   "display_name": "Python 3 (ipykernel)",
   "language": "python",
   "name": "python3"
  },
  "language_info": {
   "codemirror_mode": {
    "name": "ipython",
    "version": 3
   },
   "file_extension": ".py",
   "mimetype": "text/x-python",
   "name": "python",
   "nbconvert_exporter": "python",
   "pygments_lexer": "ipython3",
   "version": "3.10.1"
  }
 },
 "nbformat": 4,
 "nbformat_minor": 5
}
