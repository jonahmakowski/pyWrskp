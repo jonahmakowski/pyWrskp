{
 "cells": [
  {
   "cell_type": "markdown",
   "id": "fedcdfdd-eb34-4bb9-8826-fd0a2e34df0d",
   "metadata": {},
   "source": [
    "# The Land Of Power\n",
    "This is a file for random stuff!\n",
    "\n",
    "## Var sender and reciver!\n",
    "This is a program so that I can figure out how to send vars from on program to the other\n",
    "\n",
    "### Saver/sender\n",
    "\n",
    "this sends the var to the other program"
   ]
  },
  {
   "cell_type": "code",
   "execution_count": null,
   "id": "f1b30320-d974-44c1-8312-ae567e6cf32f",
   "metadata": {},
   "outputs": [],
   "source": [
    "import json\n",
    "\n",
    "print('Sender!')\n",
    "\n",
    "var = input('What do you wish to send?\\n')\n",
    "\n",
    "save_dic = {'var':var}\n",
    "\n",
    "with open('../../docs/txt-files/temp_jupyter-lab_vars.txt', 'w') as outfile:\n",
    "    json.dump(save_dic, outfile)\n",
    "\n",
    "print('done!')"
   ]
  },
  {
   "cell_type": "markdown",
   "id": "ce3f0038-309c-4138-9caf-ecfb40718ca6",
   "metadata": {},
   "source": [
    "### Reader\n",
    "\n",
    "This takes the file from above, and tells you the var!"
   ]
  },
  {
   "cell_type": "code",
   "execution_count": null,
   "id": "6426e439-93d2-419f-b9a2-4158980ac47a",
   "metadata": {},
   "outputs": [],
   "source": [
    "import json\n",
    "\n",
    "print('reader')\n",
    "\n",
    "try:\n",
    "    with open('../../docs/txt-files/temp_jupyter-lab_vars.txt') as json_file:\n",
    "        dic = json.load(json_file)\n",
    "except FileNotFoundError:\n",
    "    print('There is no file, run the program above first!')\n",
    "\n",
    "for item in dic:\n",
    "    print('{}: {}'.format(item, dic[item]))"
   ]
  },
  {
   "cell_type": "markdown",
   "id": "20c5dc83-c1b3-4942-bd5b-5706ea613fcb",
   "metadata": {},
   "source": [
    "## Remote control program\n",
    "\n",
    "One program tells the other what to do!\n",
    "\n",
    "### Sender"
   ]
  },
  {
   "cell_type": "code",
   "execution_count": null,
   "id": "abee2e1d-649b-46c5-8e3f-6c57e89e0c48",
   "metadata": {},
   "outputs": [],
   "source": [
    "import json\n",
    "\n",
    "print('Sender!')\n",
    "\n",
    "while True:\n",
    "    do = input('What do you wish the other program to do??\\n')\n",
    "\n",
    "    save_dic = {'do':do}\n",
    "\n",
    "    with open('../../docs/txt-files/temp_jupyter-lab_vars.txt', 'w') as outfile:\n",
    "        json.dump(save_dic, outfile)"
   ]
  },
  {
   "cell_type": "markdown",
   "id": "1263c6ff-6f31-4f4a-aeac-6782b7f850ec",
   "metadata": {},
   "source": [
    "### Reader"
   ]
  },
  {
   "cell_type": "code",
   "execution_count": null,
   "id": "8d1d59a4-f950-41dc-afe4-7bba3d61d0e3",
   "metadata": {},
   "outputs": [],
   "source": [
    "import json\n",
    "import threading\n",
    "\n",
    "print('reader')\n",
    "\n",
    "def check():\n",
    "    try:\n",
    "        with open('../../docs/txt-files/temp_jupyter-lab_vars.txt') as json_file:\n",
    "            dic = json.load(json_file)\n",
    "    except FileNotFoundError:\n",
    "        print('There is no file, run the program above first!')\n",
    "\n",
    "x = threading.Thread(target=check, args=())\n",
    "\n",
    "    \n",
    "while True:\n",
    "    for item in dic:\n",
    "        if item == 'do':\n",
    "            if dic['item'] == 'w':\n",
    "                print('forward')\n",
    "            elif dic['item'] == 'a':\n",
    "                print('lef')\n",
    "            elif dic['item'] == 's':\n",
    "                print('back')\n",
    "            elif dic['item'] == 'd':\n",
    "                print('right')"
   ]
  },
  {
   "cell_type": "code",
   "execution_count": null,
   "id": "0e6dd4fe-3384-4f73-9603-9d6f71ad979c",
   "metadata": {},
   "outputs": [],
   "source": []
  }
 ],
 "metadata": {
  "kernelspec": {
   "display_name": "Python 3 (ipykernel)",
   "language": "python",
   "name": "python3"
  },
  "language_info": {
   "codemirror_mode": {
    "name": "ipython",
    "version": 3
   },
   "file_extension": ".py",
   "mimetype": "text/x-python",
   "name": "python",
   "nbconvert_exporter": "python",
   "pygments_lexer": "ipython3",
   "version": "3.10.1"
  }
 },
 "nbformat": 4,
 "nbformat_minor": 5
}
